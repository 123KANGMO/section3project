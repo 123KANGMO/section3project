{
 "cells": [
  {
   "cell_type": "code",
   "execution_count": 12,
   "metadata": {},
   "outputs": [],
   "source": [
    "import pickle \n",
    "from sklearn.model_selection import train_test_split\n",
    "import pandas as pd\n",
    "\n",
    "df = pd.read_csv('btc_done.csv')\n",
    "with open('model_1.pickle', 'rb') as f: \n",
    "    model = pickle.load(f)\n",
    "\n",
    "X_train, X_test, y_train, y_test = train_test_split(df['0'], df['answer'].to_numpy(), test_size=0.2, random_state=2)\n"
   ]
  },
  {
   "cell_type": "code",
   "execution_count": 9,
   "metadata": {},
   "outputs": [],
   "source": [
    "from category_encoders import OneHotEncoder\n",
    "from sklearn.impute import SimpleImputer\n",
    "from sklearn.preprocessing import StandardScaler\n",
    "from sklearn.tree import DecisionTreeClassifier\n",
    "from sklearn.pipeline import make_pipeline\n",
    "# from xgboost import XGBClassifierv\n",
    "import xgboost as xgb"
   ]
  },
  {
   "cell_type": "code",
   "execution_count": 13,
   "metadata": {},
   "outputs": [
    {
     "data": {
      "text/plain": [
       "0.9899363418679356"
      ]
     },
     "execution_count": 13,
     "metadata": {},
     "output_type": "execute_result"
    }
   ],
   "source": [
    "\n",
    "model.score(X_train, y_train)"
   ]
  },
  {
   "cell_type": "code",
   "execution_count": 14,
   "metadata": {},
   "outputs": [
    {
     "ename": "KeyError",
     "evalue": "'0'",
     "output_type": "error",
     "traceback": [
      "\u001b[0;31m---------------------------------------------------------------------------\u001b[0m",
      "\u001b[0;31mKeyError\u001b[0m                                  Traceback (most recent call last)",
      "\u001b[1;32m/Users/kangmolee/Documents/code_de/Section3_3/s3project/binance-api/ml_train_2.ipynb Cell 4'\u001b[0m in \u001b[0;36m<cell line: 1>\u001b[0;34m()\u001b[0m\n\u001b[0;32m----> <a href='vscode-notebook-cell:/Users/kangmolee/Documents/code_de/Section3_3/s3project/binance-api/ml_train_2.ipynb#ch0000003?line=0'>1</a>\u001b[0m model\u001b[39m.\u001b[39;49mpredict([\u001b[39m'\u001b[39;49m\u001b[39mbace\u001b[39;49m\u001b[39m'\u001b[39;49m])\n",
      "File \u001b[0;32m~/opt/anaconda3/envs/s3pro/lib/python3.8/site-packages/sklearn/utils/metaestimators.py:113\u001b[0m, in \u001b[0;36m_AvailableIfDescriptor.__get__.<locals>.<lambda>\u001b[0;34m(*args, **kwargs)\u001b[0m\n\u001b[1;32m    <a href='file:///Users/kangmolee/opt/anaconda3/envs/s3pro/lib/python3.8/site-packages/sklearn/utils/metaestimators.py?line=109'>110</a>\u001b[0m         \u001b[39mraise\u001b[39;00m attr_err\n\u001b[1;32m    <a href='file:///Users/kangmolee/opt/anaconda3/envs/s3pro/lib/python3.8/site-packages/sklearn/utils/metaestimators.py?line=111'>112</a>\u001b[0m     \u001b[39m# lambda, but not partial, allows help() to work with update_wrapper\u001b[39;00m\n\u001b[0;32m--> <a href='file:///Users/kangmolee/opt/anaconda3/envs/s3pro/lib/python3.8/site-packages/sklearn/utils/metaestimators.py?line=112'>113</a>\u001b[0m     out \u001b[39m=\u001b[39m \u001b[39mlambda\u001b[39;00m \u001b[39m*\u001b[39margs, \u001b[39m*\u001b[39m\u001b[39m*\u001b[39mkwargs: \u001b[39mself\u001b[39;49m\u001b[39m.\u001b[39;49mfn(obj, \u001b[39m*\u001b[39;49margs, \u001b[39m*\u001b[39;49m\u001b[39m*\u001b[39;49mkwargs)  \u001b[39m# noqa\u001b[39;00m\n\u001b[1;32m    <a href='file:///Users/kangmolee/opt/anaconda3/envs/s3pro/lib/python3.8/site-packages/sklearn/utils/metaestimators.py?line=113'>114</a>\u001b[0m \u001b[39melse\u001b[39;00m:\n\u001b[1;32m    <a href='file:///Users/kangmolee/opt/anaconda3/envs/s3pro/lib/python3.8/site-packages/sklearn/utils/metaestimators.py?line=115'>116</a>\u001b[0m     \u001b[39mdef\u001b[39;00m \u001b[39mfn\u001b[39m(\u001b[39m*\u001b[39margs, \u001b[39m*\u001b[39m\u001b[39m*\u001b[39mkwargs):\n",
      "File \u001b[0;32m~/opt/anaconda3/envs/s3pro/lib/python3.8/site-packages/sklearn/pipeline.py:469\u001b[0m, in \u001b[0;36mPipeline.predict\u001b[0;34m(self, X, **predict_params)\u001b[0m\n\u001b[1;32m    <a href='file:///Users/kangmolee/opt/anaconda3/envs/s3pro/lib/python3.8/site-packages/sklearn/pipeline.py?line=466'>467</a>\u001b[0m Xt \u001b[39m=\u001b[39m X\n\u001b[1;32m    <a href='file:///Users/kangmolee/opt/anaconda3/envs/s3pro/lib/python3.8/site-packages/sklearn/pipeline.py?line=467'>468</a>\u001b[0m \u001b[39mfor\u001b[39;00m _, name, transform \u001b[39min\u001b[39;00m \u001b[39mself\u001b[39m\u001b[39m.\u001b[39m_iter(with_final\u001b[39m=\u001b[39m\u001b[39mFalse\u001b[39;00m):\n\u001b[0;32m--> <a href='file:///Users/kangmolee/opt/anaconda3/envs/s3pro/lib/python3.8/site-packages/sklearn/pipeline.py?line=468'>469</a>\u001b[0m     Xt \u001b[39m=\u001b[39m transform\u001b[39m.\u001b[39;49mtransform(Xt)\n\u001b[1;32m    <a href='file:///Users/kangmolee/opt/anaconda3/envs/s3pro/lib/python3.8/site-packages/sklearn/pipeline.py?line=469'>470</a>\u001b[0m \u001b[39mreturn\u001b[39;00m \u001b[39mself\u001b[39m\u001b[39m.\u001b[39msteps[\u001b[39m-\u001b[39m\u001b[39m1\u001b[39m][\u001b[39m1\u001b[39m]\u001b[39m.\u001b[39mpredict(Xt, \u001b[39m*\u001b[39m\u001b[39m*\u001b[39mpredict_params)\n",
      "File \u001b[0;32m~/opt/anaconda3/envs/s3pro/lib/python3.8/site-packages/category_encoders/one_hot.py:283\u001b[0m, in \u001b[0;36mOneHotEncoder.transform\u001b[0;34m(self, X, override_return_df)\u001b[0m\n\u001b[1;32m    <a href='file:///Users/kangmolee/opt/anaconda3/envs/s3pro/lib/python3.8/site-packages/category_encoders/one_hot.py?line=279'>280</a>\u001b[0m \u001b[39mif\u001b[39;00m \u001b[39mnot\u001b[39;00m \u001b[39mlist\u001b[39m(\u001b[39mself\u001b[39m\u001b[39m.\u001b[39mcols):\n\u001b[1;32m    <a href='file:///Users/kangmolee/opt/anaconda3/envs/s3pro/lib/python3.8/site-packages/category_encoders/one_hot.py?line=280'>281</a>\u001b[0m     \u001b[39mreturn\u001b[39;00m X \u001b[39mif\u001b[39;00m \u001b[39mself\u001b[39m\u001b[39m.\u001b[39mreturn_df \u001b[39melse\u001b[39;00m X\u001b[39m.\u001b[39mvalues\n\u001b[0;32m--> <a href='file:///Users/kangmolee/opt/anaconda3/envs/s3pro/lib/python3.8/site-packages/category_encoders/one_hot.py?line=282'>283</a>\u001b[0m X \u001b[39m=\u001b[39m \u001b[39mself\u001b[39;49m\u001b[39m.\u001b[39;49mordinal_encoder\u001b[39m.\u001b[39;49mtransform(X)\n\u001b[1;32m    <a href='file:///Users/kangmolee/opt/anaconda3/envs/s3pro/lib/python3.8/site-packages/category_encoders/one_hot.py?line=284'>285</a>\u001b[0m \u001b[39mif\u001b[39;00m \u001b[39mself\u001b[39m\u001b[39m.\u001b[39mhandle_unknown \u001b[39m==\u001b[39m \u001b[39m'\u001b[39m\u001b[39merror\u001b[39m\u001b[39m'\u001b[39m:\n\u001b[1;32m    <a href='file:///Users/kangmolee/opt/anaconda3/envs/s3pro/lib/python3.8/site-packages/category_encoders/one_hot.py?line=285'>286</a>\u001b[0m     \u001b[39mif\u001b[39;00m X[\u001b[39mself\u001b[39m\u001b[39m.\u001b[39mcols]\u001b[39m.\u001b[39misin([\u001b[39m-\u001b[39m\u001b[39m1\u001b[39m])\u001b[39m.\u001b[39many()\u001b[39m.\u001b[39many():\n",
      "File \u001b[0;32m~/opt/anaconda3/envs/s3pro/lib/python3.8/site-packages/category_encoders/ordinal.py:203\u001b[0m, in \u001b[0;36mOrdinalEncoder.transform\u001b[0;34m(self, X, override_return_df)\u001b[0m\n\u001b[1;32m    <a href='file:///Users/kangmolee/opt/anaconda3/envs/s3pro/lib/python3.8/site-packages/category_encoders/ordinal.py?line=199'>200</a>\u001b[0m \u001b[39mif\u001b[39;00m \u001b[39mnot\u001b[39;00m \u001b[39mlist\u001b[39m(\u001b[39mself\u001b[39m\u001b[39m.\u001b[39mcols):\n\u001b[1;32m    <a href='file:///Users/kangmolee/opt/anaconda3/envs/s3pro/lib/python3.8/site-packages/category_encoders/ordinal.py?line=200'>201</a>\u001b[0m     \u001b[39mreturn\u001b[39;00m X \u001b[39mif\u001b[39;00m \u001b[39mself\u001b[39m\u001b[39m.\u001b[39mreturn_df \u001b[39melse\u001b[39;00m X\u001b[39m.\u001b[39mvalues\n\u001b[0;32m--> <a href='file:///Users/kangmolee/opt/anaconda3/envs/s3pro/lib/python3.8/site-packages/category_encoders/ordinal.py?line=202'>203</a>\u001b[0m X, _ \u001b[39m=\u001b[39m \u001b[39mself\u001b[39;49m\u001b[39m.\u001b[39;49mordinal_encoding(\n\u001b[1;32m    <a href='file:///Users/kangmolee/opt/anaconda3/envs/s3pro/lib/python3.8/site-packages/category_encoders/ordinal.py?line=203'>204</a>\u001b[0m     X,\n\u001b[1;32m    <a href='file:///Users/kangmolee/opt/anaconda3/envs/s3pro/lib/python3.8/site-packages/category_encoders/ordinal.py?line=204'>205</a>\u001b[0m     mapping\u001b[39m=\u001b[39;49m\u001b[39mself\u001b[39;49m\u001b[39m.\u001b[39;49mmapping,\n\u001b[1;32m    <a href='file:///Users/kangmolee/opt/anaconda3/envs/s3pro/lib/python3.8/site-packages/category_encoders/ordinal.py?line=205'>206</a>\u001b[0m     cols\u001b[39m=\u001b[39;49m\u001b[39mself\u001b[39;49m\u001b[39m.\u001b[39;49mcols,\n\u001b[1;32m    <a href='file:///Users/kangmolee/opt/anaconda3/envs/s3pro/lib/python3.8/site-packages/category_encoders/ordinal.py?line=206'>207</a>\u001b[0m     handle_unknown\u001b[39m=\u001b[39;49m\u001b[39mself\u001b[39;49m\u001b[39m.\u001b[39;49mhandle_unknown,\n\u001b[1;32m    <a href='file:///Users/kangmolee/opt/anaconda3/envs/s3pro/lib/python3.8/site-packages/category_encoders/ordinal.py?line=207'>208</a>\u001b[0m     handle_missing\u001b[39m=\u001b[39;49m\u001b[39mself\u001b[39;49m\u001b[39m.\u001b[39;49mhandle_missing\n\u001b[1;32m    <a href='file:///Users/kangmolee/opt/anaconda3/envs/s3pro/lib/python3.8/site-packages/category_encoders/ordinal.py?line=208'>209</a>\u001b[0m )\n\u001b[1;32m    <a href='file:///Users/kangmolee/opt/anaconda3/envs/s3pro/lib/python3.8/site-packages/category_encoders/ordinal.py?line=210'>211</a>\u001b[0m \u001b[39mif\u001b[39;00m \u001b[39mself\u001b[39m\u001b[39m.\u001b[39mdrop_invariant:\n\u001b[1;32m    <a href='file:///Users/kangmolee/opt/anaconda3/envs/s3pro/lib/python3.8/site-packages/category_encoders/ordinal.py?line=211'>212</a>\u001b[0m     X \u001b[39m=\u001b[39m X\u001b[39m.\u001b[39mdrop(columns\u001b[39m=\u001b[39m\u001b[39mself\u001b[39m\u001b[39m.\u001b[39mdrop_cols)\n",
      "File \u001b[0;32m~/opt/anaconda3/envs/s3pro/lib/python3.8/site-packages/category_encoders/ordinal.py:294\u001b[0m, in \u001b[0;36mOrdinalEncoder.ordinal_encoding\u001b[0;34m(X_in, mapping, cols, handle_unknown, handle_missing)\u001b[0m\n\u001b[1;32m    <a href='file:///Users/kangmolee/opt/anaconda3/envs/s3pro/lib/python3.8/site-packages/category_encoders/ordinal.py?line=290'>291</a>\u001b[0m col_mapping \u001b[39m=\u001b[39m switch[\u001b[39m'\u001b[39m\u001b[39mmapping\u001b[39m\u001b[39m'\u001b[39m]\n\u001b[1;32m    <a href='file:///Users/kangmolee/opt/anaconda3/envs/s3pro/lib/python3.8/site-packages/category_encoders/ordinal.py?line=292'>293</a>\u001b[0m \u001b[39m# Treat None as np.nan\u001b[39;00m\n\u001b[0;32m--> <a href='file:///Users/kangmolee/opt/anaconda3/envs/s3pro/lib/python3.8/site-packages/category_encoders/ordinal.py?line=293'>294</a>\u001b[0m X[column] \u001b[39m=\u001b[39m pd\u001b[39m.\u001b[39mSeries([el \u001b[39mif\u001b[39;00m el \u001b[39mis\u001b[39;00m \u001b[39mnot\u001b[39;00m \u001b[39mNone\u001b[39;00m \u001b[39melse\u001b[39;00m np\u001b[39m.\u001b[39mNaN \u001b[39mfor\u001b[39;00m el \u001b[39min\u001b[39;00m X[column]], index\u001b[39m=\u001b[39mX[column]\u001b[39m.\u001b[39mindex)\n\u001b[1;32m    <a href='file:///Users/kangmolee/opt/anaconda3/envs/s3pro/lib/python3.8/site-packages/category_encoders/ordinal.py?line=294'>295</a>\u001b[0m X[column] \u001b[39m=\u001b[39m X[column]\u001b[39m.\u001b[39mmap(col_mapping)\n\u001b[1;32m    <a href='file:///Users/kangmolee/opt/anaconda3/envs/s3pro/lib/python3.8/site-packages/category_encoders/ordinal.py?line=295'>296</a>\u001b[0m \u001b[39mif\u001b[39;00m util\u001b[39m.\u001b[39mis_category(X[column]\u001b[39m.\u001b[39mdtype):\n",
      "File \u001b[0;32m~/opt/anaconda3/envs/s3pro/lib/python3.8/site-packages/pandas/core/frame.py:3505\u001b[0m, in \u001b[0;36mDataFrame.__getitem__\u001b[0;34m(self, key)\u001b[0m\n\u001b[1;32m   <a href='file:///Users/kangmolee/opt/anaconda3/envs/s3pro/lib/python3.8/site-packages/pandas/core/frame.py?line=3502'>3503</a>\u001b[0m \u001b[39mif\u001b[39;00m \u001b[39mself\u001b[39m\u001b[39m.\u001b[39mcolumns\u001b[39m.\u001b[39mnlevels \u001b[39m>\u001b[39m \u001b[39m1\u001b[39m:\n\u001b[1;32m   <a href='file:///Users/kangmolee/opt/anaconda3/envs/s3pro/lib/python3.8/site-packages/pandas/core/frame.py?line=3503'>3504</a>\u001b[0m     \u001b[39mreturn\u001b[39;00m \u001b[39mself\u001b[39m\u001b[39m.\u001b[39m_getitem_multilevel(key)\n\u001b[0;32m-> <a href='file:///Users/kangmolee/opt/anaconda3/envs/s3pro/lib/python3.8/site-packages/pandas/core/frame.py?line=3504'>3505</a>\u001b[0m indexer \u001b[39m=\u001b[39m \u001b[39mself\u001b[39;49m\u001b[39m.\u001b[39;49mcolumns\u001b[39m.\u001b[39;49mget_loc(key)\n\u001b[1;32m   <a href='file:///Users/kangmolee/opt/anaconda3/envs/s3pro/lib/python3.8/site-packages/pandas/core/frame.py?line=3505'>3506</a>\u001b[0m \u001b[39mif\u001b[39;00m is_integer(indexer):\n\u001b[1;32m   <a href='file:///Users/kangmolee/opt/anaconda3/envs/s3pro/lib/python3.8/site-packages/pandas/core/frame.py?line=3506'>3507</a>\u001b[0m     indexer \u001b[39m=\u001b[39m [indexer]\n",
      "File \u001b[0;32m~/opt/anaconda3/envs/s3pro/lib/python3.8/site-packages/pandas/core/indexes/range.py:389\u001b[0m, in \u001b[0;36mRangeIndex.get_loc\u001b[0;34m(self, key, method, tolerance)\u001b[0m\n\u001b[1;32m    <a href='file:///Users/kangmolee/opt/anaconda3/envs/s3pro/lib/python3.8/site-packages/pandas/core/indexes/range.py?line=386'>387</a>\u001b[0m             \u001b[39mraise\u001b[39;00m \u001b[39mKeyError\u001b[39;00m(key) \u001b[39mfrom\u001b[39;00m \u001b[39merr\u001b[39;00m\n\u001b[1;32m    <a href='file:///Users/kangmolee/opt/anaconda3/envs/s3pro/lib/python3.8/site-packages/pandas/core/indexes/range.py?line=387'>388</a>\u001b[0m     \u001b[39mself\u001b[39m\u001b[39m.\u001b[39m_check_indexing_error(key)\n\u001b[0;32m--> <a href='file:///Users/kangmolee/opt/anaconda3/envs/s3pro/lib/python3.8/site-packages/pandas/core/indexes/range.py?line=388'>389</a>\u001b[0m     \u001b[39mraise\u001b[39;00m \u001b[39mKeyError\u001b[39;00m(key)\n\u001b[1;32m    <a href='file:///Users/kangmolee/opt/anaconda3/envs/s3pro/lib/python3.8/site-packages/pandas/core/indexes/range.py?line=389'>390</a>\u001b[0m \u001b[39mreturn\u001b[39;00m \u001b[39msuper\u001b[39m()\u001b[39m.\u001b[39mget_loc(key, method\u001b[39m=\u001b[39mmethod, tolerance\u001b[39m=\u001b[39mtolerance)\n",
      "\u001b[0;31mKeyError\u001b[0m: '0'"
     ]
    }
   ],
   "source": [
    "model.predict(['bace'])"
   ]
  },
  {
   "cell_type": "code",
   "execution_count": null,
   "metadata": {},
   "outputs": [],
   "source": []
  }
 ],
 "metadata": {
  "interpreter": {
   "hash": "c46ae01dd91ee28b08e448619dc80ba9d745bb2bb34ebca7ece31d9e0a41e4ca"
  },
  "kernelspec": {
   "display_name": "Python 3.8.13 ('s3pro')",
   "language": "python",
   "name": "python3"
  },
  "language_info": {
   "codemirror_mode": {
    "name": "ipython",
    "version": 3
   },
   "file_extension": ".py",
   "mimetype": "text/x-python",
   "name": "python",
   "nbconvert_exporter": "python",
   "pygments_lexer": "ipython3",
   "version": "3.8.13"
  },
  "orig_nbformat": 4
 },
 "nbformat": 4,
 "nbformat_minor": 2
}
